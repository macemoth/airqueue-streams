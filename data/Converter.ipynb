{
 "cells": [
  {
   "cell_type": "code",
   "execution_count": 1,
   "metadata": {},
   "outputs": [],
   "source": [
    "import pandas as pd"
   ]
  },
  {
   "cell_type": "code",
   "execution_count": 3,
   "metadata": {},
   "outputs": [],
   "source": [
    "flights = pd.read_csv(\"flights.csv\")"
   ]
  },
  {
   "cell_type": "code",
   "execution_count": 7,
   "metadata": {},
   "outputs": [],
   "source": [
    "flights_compr = flights[[\"AIRLINE\", \"FLIGHT_NUMBER\", \"TAIL_NUMBER\", \"ORIGIN_AIRPORT\", \"DESTINATION_AIRPORT\", \"DEPARTURE_DELAY\", \"ARRIVAL_DELAY\"]]"
   ]
  },
  {
   "cell_type": "code",
   "execution_count": 10,
   "metadata": {},
   "outputs": [
    {
     "data": {
      "text/html": [
       "<div>\n",
       "<style scoped>\n",
       "    .dataframe tbody tr th:only-of-type {\n",
       "        vertical-align: middle;\n",
       "    }\n",
       "\n",
       "    .dataframe tbody tr th {\n",
       "        vertical-align: top;\n",
       "    }\n",
       "\n",
       "    .dataframe thead th {\n",
       "        text-align: right;\n",
       "    }\n",
       "</style>\n",
       "<table border=\"1\" class=\"dataframe\">\n",
       "  <thead>\n",
       "    <tr style=\"text-align: right;\">\n",
       "      <th></th>\n",
       "      <th>AIRLINE</th>\n",
       "      <th>FLIGHT_NUMBER</th>\n",
       "      <th>TAIL_NUMBER</th>\n",
       "      <th>ORIGIN_AIRPORT</th>\n",
       "      <th>DESTINATION_AIRPORT</th>\n",
       "      <th>ARRIVAL_DELAY</th>\n",
       "    </tr>\n",
       "  </thead>\n",
       "  <tbody>\n",
       "    <tr>\n",
       "      <th>0</th>\n",
       "      <td>AS</td>\n",
       "      <td>98</td>\n",
       "      <td>N407AS</td>\n",
       "      <td>ANC</td>\n",
       "      <td>SEA</td>\n",
       "      <td>-22.0</td>\n",
       "    </tr>\n",
       "    <tr>\n",
       "      <th>1</th>\n",
       "      <td>AA</td>\n",
       "      <td>2336</td>\n",
       "      <td>N3KUAA</td>\n",
       "      <td>LAX</td>\n",
       "      <td>PBI</td>\n",
       "      <td>-9.0</td>\n",
       "    </tr>\n",
       "    <tr>\n",
       "      <th>2</th>\n",
       "      <td>US</td>\n",
       "      <td>840</td>\n",
       "      <td>N171US</td>\n",
       "      <td>SFO</td>\n",
       "      <td>CLT</td>\n",
       "      <td>5.0</td>\n",
       "    </tr>\n",
       "    <tr>\n",
       "      <th>3</th>\n",
       "      <td>AA</td>\n",
       "      <td>258</td>\n",
       "      <td>N3HYAA</td>\n",
       "      <td>LAX</td>\n",
       "      <td>MIA</td>\n",
       "      <td>-9.0</td>\n",
       "    </tr>\n",
       "    <tr>\n",
       "      <th>4</th>\n",
       "      <td>AS</td>\n",
       "      <td>135</td>\n",
       "      <td>N527AS</td>\n",
       "      <td>SEA</td>\n",
       "      <td>ANC</td>\n",
       "      <td>-21.0</td>\n",
       "    </tr>\n",
       "  </tbody>\n",
       "</table>\n",
       "</div>"
      ],
      "text/plain": [
       "  AIRLINE  FLIGHT_NUMBER TAIL_NUMBER ORIGIN_AIRPORT DESTINATION_AIRPORT  \\\n",
       "0      AS             98      N407AS            ANC                 SEA   \n",
       "1      AA           2336      N3KUAA            LAX                 PBI   \n",
       "2      US            840      N171US            SFO                 CLT   \n",
       "3      AA            258      N3HYAA            LAX                 MIA   \n",
       "4      AS            135      N527AS            SEA                 ANC   \n",
       "\n",
       "   ARRIVAL_DELAY  \n",
       "0          -22.0  \n",
       "1           -9.0  \n",
       "2            5.0  \n",
       "3           -9.0  \n",
       "4          -21.0  "
      ]
     },
     "execution_count": 10,
     "metadata": {},
     "output_type": "execute_result"
    }
   ],
   "source": [
    "flights_compr.head()"
   ]
  },
  {
   "cell_type": "code",
   "execution_count": 11,
   "metadata": {},
   "outputs": [],
   "source": [
    "flights_compr.to_json(\"flights.json\", orient=\"records\")"
   ]
  },
  {
   "cell_type": "code",
   "execution_count": 13,
   "metadata": {},
   "outputs": [],
   "source": [
    "airports = pd.read_csv(\"airports.csv\")\n",
    "airports.to_json(\"airports.json\", orient=\"records\")"
   ]
  },
  {
   "cell_type": "code",
   "execution_count": 2,
   "metadata": {},
   "outputs": [],
   "source": [
    "airlines = pd.read_csv(\"airlines.csv\")\n",
    "airlines.to_json(\"airlines.json\", orient=\"records\")"
   ]
  },
  {
   "cell_type": "code",
   "execution_count": 9,
   "metadata": {},
   "outputs": [],
   "source": [
    "flights[[\"DEPARTURE_DELAY\"]].to_json(\"departure_delay.json\", orient=\"records\")"
   ]
  },
  {
   "cell_type": "code",
   "execution_count": 51,
   "metadata": {},
   "outputs": [],
   "source": [
    "acas = pd.read_json(\"acas.json\", orient=\"records\", lines=True)\n",
    "utc = pd.json_normalize(acas[\"acas_ra\"])[\"utc\"]"
   ]
  },
  {
   "cell_type": "code",
   "execution_count": 55,
   "metadata": {},
   "outputs": [
    {
     "name": "stderr",
     "output_type": "stream",
     "text": [
      "<ipython-input-55-e20a019f5496>:2: SettingWithCopyWarning: \n",
      "A value is trying to be set on a copy of a slice from a DataFrame.\n",
      "Try using .loc[row_indexer,col_indexer] = value instead\n",
      "\n",
      "See the caveats in the documentation: https://pandas.pydata.org/pandas-docs/stable/user_guide/indexing.html#returning-a-view-versus-a-copy\n",
      "  acas_compr[\"utc\"] = utc\n"
     ]
    }
   ],
   "source": [
    "acas_compr = acas[[\"flight\", \"r\", \"alt_baro\", \"ground_speed\", \"lat\", \"lon\"]]\n",
    "acas_compr[\"utc\"] = utc"
   ]
  },
  {
   "cell_type": "code",
   "execution_count": 57,
   "metadata": {},
   "outputs": [
    {
     "name": "stderr",
     "output_type": "stream",
     "text": [
      "<ipython-input-57-5a538964c83b>:1: SettingWithCopyWarning: \n",
      "A value is trying to be set on a copy of a slice from a DataFrame.\n",
      "Try using .loc[row_indexer,col_indexer] = value instead\n",
      "\n",
      "See the caveats in the documentation: https://pandas.pydata.org/pandas-docs/stable/user_guide/indexing.html#returning-a-view-versus-a-copy\n",
      "  acas_compr[\"on_ground\"] = 0\n"
     ]
    }
   ],
   "source": [
    "acas_compr[\"on_ground\"] = 0"
   ]
  },
  {
   "cell_type": "code",
   "execution_count": 58,
   "metadata": {},
   "outputs": [
    {
     "data": {
      "text/html": [
       "<div>\n",
       "<style scoped>\n",
       "    .dataframe tbody tr th:only-of-type {\n",
       "        vertical-align: middle;\n",
       "    }\n",
       "\n",
       "    .dataframe tbody tr th {\n",
       "        vertical-align: top;\n",
       "    }\n",
       "\n",
       "    .dataframe thead th {\n",
       "        text-align: right;\n",
       "    }\n",
       "</style>\n",
       "<table border=\"1\" class=\"dataframe\">\n",
       "  <thead>\n",
       "    <tr style=\"text-align: right;\">\n",
       "      <th></th>\n",
       "      <th>flight</th>\n",
       "      <th>r</th>\n",
       "      <th>alt_baro</th>\n",
       "      <th>ground_speed</th>\n",
       "      <th>lat</th>\n",
       "      <th>lon</th>\n",
       "      <th>utc</th>\n",
       "      <th>on_ground</th>\n",
       "    </tr>\n",
       "  </thead>\n",
       "  <tbody>\n",
       "    <tr>\n",
       "      <th>0</th>\n",
       "      <td>N454DR</td>\n",
       "      <td>N454DR</td>\n",
       "      <td>1175</td>\n",
       "      <td>165.3</td>\n",
       "      <td>47.503160</td>\n",
       "      <td>-122.754470</td>\n",
       "      <td>2022-02-01 00:02:56.7</td>\n",
       "      <td>0</td>\n",
       "    </tr>\n",
       "    <tr>\n",
       "      <th>1</th>\n",
       "      <td>N454DR</td>\n",
       "      <td>N454DR</td>\n",
       "      <td>1200</td>\n",
       "      <td>167.4</td>\n",
       "      <td>47.503486</td>\n",
       "      <td>-122.754188</td>\n",
       "      <td>2022-02-01 00:02:57.5</td>\n",
       "      <td>0</td>\n",
       "    </tr>\n",
       "    <tr>\n",
       "      <th>2</th>\n",
       "      <td>N454DR</td>\n",
       "      <td>N454DR</td>\n",
       "      <td>1250</td>\n",
       "      <td>167.4</td>\n",
       "      <td>47.504150</td>\n",
       "      <td>-122.753540</td>\n",
       "      <td>2022-02-01 00:02:58.4</td>\n",
       "      <td>0</td>\n",
       "    </tr>\n",
       "    <tr>\n",
       "      <th>3</th>\n",
       "      <td>N454DR</td>\n",
       "      <td>N454DR</td>\n",
       "      <td>1275</td>\n",
       "      <td>169.0</td>\n",
       "      <td>47.504517</td>\n",
       "      <td>-122.753197</td>\n",
       "      <td>2022-02-01 00:02:59.2</td>\n",
       "      <td>0</td>\n",
       "    </tr>\n",
       "    <tr>\n",
       "      <th>4</th>\n",
       "      <td>N454DR</td>\n",
       "      <td>N454DR</td>\n",
       "      <td>1300</td>\n",
       "      <td>169.0</td>\n",
       "      <td>47.504837</td>\n",
       "      <td>-122.752922</td>\n",
       "      <td>2022-02-01 00:02:59.4</td>\n",
       "      <td>0</td>\n",
       "    </tr>\n",
       "  </tbody>\n",
       "</table>\n",
       "</div>"
      ],
      "text/plain": [
       "     flight       r alt_baro  ground_speed        lat         lon  \\\n",
       "0  N454DR    N454DR     1175         165.3  47.503160 -122.754470   \n",
       "1  N454DR    N454DR     1200         167.4  47.503486 -122.754188   \n",
       "2  N454DR    N454DR     1250         167.4  47.504150 -122.753540   \n",
       "3  N454DR    N454DR     1275         169.0  47.504517 -122.753197   \n",
       "4  N454DR    N454DR     1300         169.0  47.504837 -122.752922   \n",
       "\n",
       "                     utc  on_ground  \n",
       "0  2022-02-01 00:02:56.7          0  \n",
       "1  2022-02-01 00:02:57.5          0  \n",
       "2  2022-02-01 00:02:58.4          0  \n",
       "3  2022-02-01 00:02:59.2          0  \n",
       "4  2022-02-01 00:02:59.4          0  "
      ]
     },
     "execution_count": 58,
     "metadata": {},
     "output_type": "execute_result"
    }
   ],
   "source": [
    "acas_compr.head()"
   ]
  },
  {
   "cell_type": "code",
   "execution_count": 60,
   "metadata": {},
   "outputs": [],
   "source": [
    "acas_compr.to_json(\"acas_cleaned.json\", orient=\"records\", lines=True)"
   ]
  },
  {
   "cell_type": "code",
   "execution_count": null,
   "metadata": {},
   "outputs": [],
   "source": []
  }
 ],
 "metadata": {
  "kernelspec": {
   "display_name": "Python 3",
   "language": "python",
   "name": "python3"
  },
  "language_info": {
   "codemirror_mode": {
    "name": "ipython",
    "version": 3
   },
   "file_extension": ".py",
   "mimetype": "text/x-python",
   "name": "python",
   "nbconvert_exporter": "python",
   "pygments_lexer": "ipython3",
   "version": "3.8.5"
  }
 },
 "nbformat": 4,
 "nbformat_minor": 5
}
